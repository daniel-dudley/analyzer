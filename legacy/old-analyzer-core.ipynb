{
 "cells": [
  {
   "cell_type": "code",
   "execution_count": 5,
   "metadata": {},
   "outputs": [],
   "source": [
    "import os\n",
    "import numpy as np\n",
    "from skimage import io, data\n",
    "#https://www.youtube.com/watch?v=1ThNcb0UNq4"
   ]
  },
  {
   "cell_type": "code",
   "execution_count": 6,
   "metadata": {},
   "outputs": [
    {
     "ename": "NameError",
     "evalue": "name 'skimage' is not defined",
     "output_type": "error",
     "traceback": [
      "\u001b[0;31m---------------------------------------------------------------------------\u001b[0m",
      "\u001b[0;31mNameError\u001b[0m                                 Traceback (most recent call last)",
      "\u001b[1;32m/Users/danieldudley/Documents/Code/Analyzer-Core/analyzer-core.ipynb Cell 2'\u001b[0m in \u001b[0;36m<module>\u001b[0;34m\u001b[0m\n\u001b[0;32m----> <a href='vscode-notebook-cell:/Users/danieldudley/Documents/Code/Analyzer-Core/analyzer-core.ipynb#ch0000001?line=0'>1</a>\u001b[0m file \u001b[39m=\u001b[39m os\u001b[39m.\u001b[39mpath\u001b[39m.\u001b[39mjoin(skimage\u001b[39m.\u001b[39mdata_dir, \u001b[39m'\u001b[39m\u001b[39mE:/Users/danieldudley/Documents/Code/Analyzer-Core/RGB - 3 reservoir paper design test using inkscape.jpg\u001b[39m\u001b[39m'\u001b[39m) \n\u001b[1;32m      <a href='vscode-notebook-cell:/Users/danieldudley/Documents/Code/Analyzer-Core/analyzer-core.ipynb#ch0000001?line=1'>2</a>\u001b[0m myimg \u001b[39m=\u001b[39m io\u001b[39m.\u001b[39mimread(file) \n\u001b[1;32m      <a href='vscode-notebook-cell:/Users/danieldudley/Documents/Code/Analyzer-Core/analyzer-core.ipynb#ch0000001?line=3'>4</a>\u001b[0m io\u001b[39m.\u001b[39mimshow(myimg) \n",
      "\u001b[0;31mNameError\u001b[0m: name 'skimage' is not defined"
     ]
    }
   ],
   "source": [
    "file = os.path.join(skimage.data_dir, 'E:/Users/danieldudley/Documents/Code/Analyzer-Core/RGB - 3 reservoir paper design test using inkscape.jpg') \n",
    "myimg = io.imread(file) \n",
    "\n",
    "io.imshow(myimg) \n",
    "io.show()\n",
    "\n",
    "#image = data.astronaut()\n",
    "#io.imshow(image);"
   ]
  }
 ],
 "metadata": {
  "interpreter": {
   "hash": "aee8b7b246df8f9039afb4144a1f6fd8d2ca17a180786b69acc140d282b71a49"
  },
  "kernelspec": {
   "display_name": "Python 3.10.2 64-bit",
   "language": "python",
   "name": "python3"
  },
  "language_info": {
   "codemirror_mode": {
    "name": "ipython",
    "version": 3
   },
   "file_extension": ".py",
   "mimetype": "text/x-python",
   "name": "python",
   "nbconvert_exporter": "python",
   "pygments_lexer": "ipython3",
   "version": "3.10.2"
  },
  "orig_nbformat": 4
 },
 "nbformat": 4,
 "nbformat_minor": 2
}
